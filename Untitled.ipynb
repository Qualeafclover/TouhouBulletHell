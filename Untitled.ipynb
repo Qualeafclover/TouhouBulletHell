{
 "cells": [
  {
   "cell_type": "code",
   "execution_count": 2,
   "id": "81f1970d",
   "metadata": {},
   "outputs": [],
   "source": [
    "import glob\n",
    "import json\n",
    "import pandas as pd\n",
    "import numpy as np"
   ]
  },
  {
   "cell_type": "code",
   "execution_count": 3,
   "id": "86065c97",
   "metadata": {},
   "outputs": [
    {
     "data": {
      "text/plain": [
       "22844"
      ]
     },
     "execution_count": 3,
     "metadata": {},
     "output_type": "execute_result"
    }
   ],
   "source": [
    "json_files = glob.glob('json_dataset/*/*')\n",
    "len(json_files)"
   ]
  },
  {
   "cell_type": "code",
   "execution_count": 4,
   "id": "f9dca60e",
   "metadata": {},
   "outputs": [],
   "source": [
    "def key_dict2arr(key_dict: dict) -> np.ndarray:\n",
    "    direction_dict = {(1, 0): 1, (0, 0): 0, (0, 1): -1, (1, 1): -1}\n",
    "    movement_angle = np.arctan2(direction_dict[(key_dict['up'], key_dict['down'])],\n",
    "                                direction_dict[(key_dict['right'], key_dict['left'])], dtype=np.float32)\n",
    "    movement = (1 - 0.5 * key_dict['slow']) * \\\n",
    "               (key_dict['up'] or key_dict['down'] or key_dict['right'] or key_dict['left'])\n",
    "#     output = np.array([np.sin(movement_angle), np.cos(movement_angle), movement], dtype=np.float32)\n",
    "    output = np.array([movement_angle, movement], dtype=np.float32)\n",
    "    return output"
   ]
  },
  {
   "cell_type": "code",
   "execution_count": 5,
   "id": "252d2241",
   "metadata": {},
   "outputs": [],
   "source": [
    "def json2key_dict(json_dir: str) -> dict:\n",
    "    with open(json_dir, 'r') as f:\n",
    "        key_dict = json.load(f)['key']\n",
    "    return key_dict"
   ]
  },
  {
   "cell_type": "code",
   "execution_count": 6,
   "id": "a3612f39",
   "metadata": {},
   "outputs": [
    {
     "data": {
      "text/html": [
       "<div>\n",
       "<style scoped>\n",
       "    .dataframe tbody tr th:only-of-type {\n",
       "        vertical-align: middle;\n",
       "    }\n",
       "\n",
       "    .dataframe tbody tr th {\n",
       "        vertical-align: top;\n",
       "    }\n",
       "\n",
       "    .dataframe thead th {\n",
       "        text-align: right;\n",
       "    }\n",
       "</style>\n",
       "<table border=\"1\" class=\"dataframe\">\n",
       "  <thead>\n",
       "    <tr style=\"text-align: right;\">\n",
       "      <th></th>\n",
       "      <th>0</th>\n",
       "      <th>1</th>\n",
       "    </tr>\n",
       "  </thead>\n",
       "  <tbody>\n",
       "    <tr>\n",
       "      <th>count</th>\n",
       "      <td>22844.000000</td>\n",
       "      <td>22844.000000</td>\n",
       "    </tr>\n",
       "    <tr>\n",
       "      <th>mean</th>\n",
       "      <td>0.359556</td>\n",
       "      <td>0.266350</td>\n",
       "    </tr>\n",
       "    <tr>\n",
       "      <th>std</th>\n",
       "      <td>1.336128</td>\n",
       "      <td>0.266112</td>\n",
       "    </tr>\n",
       "    <tr>\n",
       "      <th>min</th>\n",
       "      <td>-2.356194</td>\n",
       "      <td>0.000000</td>\n",
       "    </tr>\n",
       "    <tr>\n",
       "      <th>25%</th>\n",
       "      <td>0.000000</td>\n",
       "      <td>0.000000</td>\n",
       "    </tr>\n",
       "    <tr>\n",
       "      <th>50%</th>\n",
       "      <td>0.000000</td>\n",
       "      <td>0.500000</td>\n",
       "    </tr>\n",
       "    <tr>\n",
       "      <th>75%</th>\n",
       "      <td>0.785398</td>\n",
       "      <td>0.500000</td>\n",
       "    </tr>\n",
       "    <tr>\n",
       "      <th>max</th>\n",
       "      <td>3.141593</td>\n",
       "      <td>1.000000</td>\n",
       "    </tr>\n",
       "  </tbody>\n",
       "</table>\n",
       "</div>"
      ],
      "text/plain": [
       "                  0             1\n",
       "count  22844.000000  22844.000000\n",
       "mean       0.359556      0.266350\n",
       "std        1.336128      0.266112\n",
       "min       -2.356194      0.000000\n",
       "25%        0.000000      0.000000\n",
       "50%        0.000000      0.500000\n",
       "75%        0.785398      0.500000\n",
       "max        3.141593      1.000000"
      ]
     },
     "execution_count": 6,
     "metadata": {},
     "output_type": "execute_result"
    }
   ],
   "source": [
    "data = np.stack(list(map((lambda j: key_dict2arr(json2key_dict(j))), json_files)))\n",
    "pd.DataFrame(data).describe()"
   ]
  },
  {
   "cell_type": "code",
   "execution_count": 7,
   "id": "05416983",
   "metadata": {},
   "outputs": [],
   "source": [
    "def pol2cart(phi, rho):\n",
    "    x = rho * np.cos(phi)\n",
    "    y = rho * np.sin(phi)\n",
    "    return(x, y)"
   ]
  },
  {
   "cell_type": "code",
   "execution_count": 8,
   "id": "ce6ef326",
   "metadata": {},
   "outputs": [
    {
     "data": {
      "text/html": [
       "<div>\n",
       "<style scoped>\n",
       "    .dataframe tbody tr th:only-of-type {\n",
       "        vertical-align: middle;\n",
       "    }\n",
       "\n",
       "    .dataframe tbody tr th {\n",
       "        vertical-align: top;\n",
       "    }\n",
       "\n",
       "    .dataframe thead th {\n",
       "        text-align: right;\n",
       "    }\n",
       "</style>\n",
       "<table border=\"1\" class=\"dataframe\">\n",
       "  <thead>\n",
       "    <tr style=\"text-align: right;\">\n",
       "      <th></th>\n",
       "      <th>0</th>\n",
       "      <th>1</th>\n",
       "    </tr>\n",
       "  </thead>\n",
       "  <tbody>\n",
       "    <tr>\n",
       "      <th>count</th>\n",
       "      <td>2.284400e+04</td>\n",
       "      <td>2.284400e+04</td>\n",
       "    </tr>\n",
       "    <tr>\n",
       "      <th>mean</th>\n",
       "      <td>-8.351274e-04</td>\n",
       "      <td>-3.255879e-03</td>\n",
       "    </tr>\n",
       "    <tr>\n",
       "      <th>std</th>\n",
       "      <td>2.705045e-01</td>\n",
       "      <td>2.618724e-01</td>\n",
       "    </tr>\n",
       "    <tr>\n",
       "      <th>min</th>\n",
       "      <td>-1.000000e+00</td>\n",
       "      <td>-1.000000e+00</td>\n",
       "    </tr>\n",
       "    <tr>\n",
       "      <th>25%</th>\n",
       "      <td>-2.185569e-08</td>\n",
       "      <td>-4.371139e-08</td>\n",
       "    </tr>\n",
       "    <tr>\n",
       "      <th>50%</th>\n",
       "      <td>0.000000e+00</td>\n",
       "      <td>0.000000e+00</td>\n",
       "    </tr>\n",
       "    <tr>\n",
       "      <th>75%</th>\n",
       "      <td>0.000000e+00</td>\n",
       "      <td>0.000000e+00</td>\n",
       "    </tr>\n",
       "    <tr>\n",
       "      <th>max</th>\n",
       "      <td>1.000000e+00</td>\n",
       "      <td>1.000000e+00</td>\n",
       "    </tr>\n",
       "  </tbody>\n",
       "</table>\n",
       "</div>"
      ],
      "text/plain": [
       "                  0             1\n",
       "count  2.284400e+04  2.284400e+04\n",
       "mean  -8.351274e-04 -3.255879e-03\n",
       "std    2.705045e-01  2.618724e-01\n",
       "min   -1.000000e+00 -1.000000e+00\n",
       "25%   -2.185569e-08 -4.371139e-08\n",
       "50%    0.000000e+00  0.000000e+00\n",
       "75%    0.000000e+00  0.000000e+00\n",
       "max    1.000000e+00  1.000000e+00"
      ]
     },
     "execution_count": 8,
     "metadata": {},
     "output_type": "execute_result"
    }
   ],
   "source": [
    "data = np.stack(list(map(pol2cart, data[:, 0], data[:, 1])))\n",
    "pd.DataFrame(data).describe()"
   ]
  },
  {
   "cell_type": "code",
   "execution_count": 9,
   "id": "38d82fe0",
   "metadata": {},
   "outputs": [],
   "source": [
    "import matplotlib.pyplot as plt\n",
    "import seaborn as sns"
   ]
  },
  {
   "cell_type": "code",
   "execution_count": 10,
   "id": "257fc55f",
   "metadata": {},
   "outputs": [
    {
     "data": {
      "text/plain": [
       "<matplotlib.collections.PathCollection at 0x7f2b8fc84f10>"
      ]
     },
     "execution_count": 10,
     "metadata": {},
     "output_type": "execute_result"
    },
    {
     "data": {
      "image/png": "[encoded data removed]",
      "text/plain": [
       "<Figure size 432x288 with 1 Axes>"
      ]
     },
     "metadata": {
      "needs_background": "light"
     },
     "output_type": "display_data"
    }
   ],
   "source": [
    "plt.scatter(data[:, 0], data[:, 1])"
   ]
  },
  {
   "cell_type": "code",
   "execution_count": 23,
   "id": "17395d5b",
   "metadata": {},
   "outputs": [
    {
     "data": {
      "text/plain": [
       "(array([   56.,     0.,    21.,  2633.,  1003.,     0.,     0., 15304.,\n",
       "            0.,     0.,  1637.,  2049.,    73.,     0.,    68.]),\n",
       " array([-1.        , -0.8666667 , -0.73333335, -0.6       , -0.46666667,\n",
       "        -0.33333334, -0.2       , -0.06666667,  0.06666667,  0.2       ,\n",
       "         0.33333334,  0.46666667,  0.6       ,  0.73333335,  0.8666667 ,\n",
       "         1.        ], dtype=float32),\n",
       " <BarContainer object of 15 artists>)"
      ]
     },
     "execution_count": 23,
     "metadata": {},
     "output_type": "execute_result"
    },
    {
     "data": {
      "image/png": "[encoded data removed]",
      "text/plain": [
       "<Figure size 432x288 with 1 Axes>"
      ]
     },
     "metadata": {
      "needs_background": "light"
     },
     "output_type": "display_data"
    }
   ],
   "source": [
    "plt.hist(data[:, 0], bins=15)"
   ]
  },
  {
   "cell_type": "code",
   "execution_count": 24,
   "id": "9160336d",
   "metadata": {},
   "outputs": [
    {
     "data": {
      "text/plain": [
       "(array([   60.,     0.,    37.,  1993.,  1576.,     0.,     0., 15873.,\n",
       "            0.,     0.,  1064.,  2070.,    57.,     0.,   114.]),\n",
       " array([-1.        , -0.8666667 , -0.73333335, -0.6       , -0.46666667,\n",
       "        -0.33333334, -0.2       , -0.06666667,  0.06666667,  0.2       ,\n",
       "         0.33333334,  0.46666667,  0.6       ,  0.73333335,  0.8666667 ,\n",
       "         1.        ], dtype=float32),\n",
       " <BarContainer object of 15 artists>)"
      ]
     },
     "execution_count": 24,
     "metadata": {},
     "output_type": "execute_result"
    },
    {
     "data": {
      "image/png": "[encoded data removed]",
      "text/plain": [
       "<Figure size 432x288 with 1 Axes>"
      ]
     },
     "metadata": {
      "needs_background": "light"
     },
     "output_type": "display_data"
    }
   ],
   "source": [
    "plt.hist(data[:, 1], bins=15)"
   ]
  },
  {
   "cell_type": "code",
   "execution_count": null,
   "id": "30f69cf0",
   "metadata": {},
   "outputs": [],
   "source": []
  }
 ],
 "metadata": {
  "kernelspec": {
   "display_name": "Python 3 (ipykernel)",
   "language": "python",
   "name": "python3"
  },
  "language_info": {
   "codemirror_mode": {
    "name": "ipython",
    "version": 3
   },
   "file_extension": ".py",
   "mimetype": "text/x-python",
   "name": "python",
   "nbconvert_exporter": "python",
   "pygments_lexer": "ipython3",
   "version": "3.8.10"
  }
 },
 "nbformat": 4,
 "nbformat_minor": 5
}

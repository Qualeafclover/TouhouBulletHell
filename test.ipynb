{
 "cells": [
  {
   "cell_type": "code",
   "execution_count": 1,
   "id": "787725f0",
   "metadata": {},
   "outputs": [],
   "source": [
    "from game_master import *"
   ]
  },
  {
   "cell_type": "code",
   "execution_count": 2,
   "id": "e909fff4",
   "metadata": {},
   "outputs": [
    {
     "name": "stdout",
     "output_type": "stream",
     "text": [
      "LANG=ja_JP.utf-8 wine \"/home/shin/.wine/drive_c/Program Files (x86)/上海アリス幻樂団/東方輝針城/th14.exe\"\n"
     ]
    },
    {
     "name": "stderr",
     "output_type": "stream",
     "text": [
      "0016:err:ntoskrnl:ZwLoadDriver failed to create driver L\"\\\\Registry\\\\Machine\\\\System\\\\CurrentControlSet\\\\Services\\\\NDIS\": 00000001\n",
      "0021:err:ntoskrnl:ZwLoadDriver failed to create driver L\"\\\\Registry\\\\Machine\\\\System\\\\CurrentControlSet\\\\Services\\\\wineusb\": c0000142\n"
     ]
    }
   ],
   "source": [
    "tm = TouhouMaster()"
   ]
  },
  {
   "cell_type": "code",
   "execution_count": 7,
   "id": "7fde4d84",
   "metadata": {},
   "outputs": [
    {
     "name": "stdout",
     "output_type": "stream",
     "text": [
      "0x5e67740\n",
      "0x5e51018\n",
      "0x5e5240c\n",
      "0x5e53800\n",
      "0x5e54bf4\n",
      "0x5e55fe8\n",
      "0x5e573dc\n",
      "0x5e6eef8\n",
      "0x5e6b31c\n",
      "0x5e6db04\n",
      "0x5e6c710\n",
      "0x5e5afb8\n",
      "0x0\n"
     ]
    },
    {
     "data": {
      "text/plain": [
       "[98897944,\n",
       " 98903052,\n",
       " 98908160,\n",
       " 98913268,\n",
       " 98918376,\n",
       " 98923484,\n",
       " 99020536,\n",
       " 99005212,\n",
       " 99015428,\n",
       " 99010320,\n",
       " 98938808]"
      ]
     },
     "execution_count": 7,
     "metadata": {},
     "output_type": "execute_result"
    }
   ],
   "source": [
    "tm.bullet_list.read()"
   ]
  },
  {
   "cell_type": "code",
   "execution_count": 8,
   "id": "58615d56",
   "metadata": {},
   "outputs": [
    {
     "data": {
      "text/plain": [
       "224"
      ]
     },
     "execution_count": 8,
     "metadata": {},
     "output_type": "execute_result"
    }
   ],
   "source": [
    "tm.io_stageframe.read()"
   ]
  },
  {
   "cell_type": "code",
   "execution_count": null,
   "id": "91894eff",
   "metadata": {},
   "outputs": [],
   "source": []
  }
 ],
 "metadata": {
  "kernelspec": {
   "display_name": "Python 3 (ipykernel)",
   "language": "python",
   "name": "python3"
  },
  "language_info": {
   "codemirror_mode": {
    "name": "ipython",
    "version": 3
   },
   "file_extension": ".py",
   "mimetype": "text/x-python",
   "name": "python",
   "nbconvert_exporter": "python",
   "pygments_lexer": "ipython3",
   "version": "3.8.10"
  }
 },
 "nbformat": 4,
 "nbformat_minor": 5
}
